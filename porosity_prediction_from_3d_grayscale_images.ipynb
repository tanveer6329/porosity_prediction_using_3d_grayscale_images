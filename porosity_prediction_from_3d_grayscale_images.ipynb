{
 "cells": [
  {
   "cell_type": "markdown",
   "id": "2d708720-cf87-495b-8388-8cf09b56c56e",
   "metadata": {},
   "source": [
    "### Dependency"
   ]
  },
  {
   "cell_type": "code",
   "execution_count": 33,
   "id": "ff2bda09-6860-43d2-90fe-71c540c843e5",
   "metadata": {},
   "outputs": [],
   "source": [
    "import torch\n",
    "import torch.nn as nn\n",
    "import torch.nn.functional as F\n",
    "from torch.utils.data import Dataset, DataLoader\n",
    "\n",
    "from sklearn.model_selection import train_test_split\n",
    "\n",
    "import numpy as np\n",
    "import pandas as pd\n",
    "import matplotlib.pyplot as plt"
   ]
  },
  {
   "cell_type": "code",
   "execution_count": 34,
   "id": "bbee7dbb-4648-4af7-9a55-5a637dca344d",
   "metadata": {},
   "outputs": [
    {
     "data": {
      "text/plain": [
       "False"
      ]
     },
     "execution_count": 34,
     "metadata": {},
     "output_type": "execute_result"
    }
   ],
   "source": [
    "torch.cuda.is_available()"
   ]
  },
  {
   "cell_type": "code",
   "execution_count": 35,
   "id": "129dae22-6b2a-4556-a2f6-d6818d353f7e",
   "metadata": {},
   "outputs": [
    {
     "data": {
      "text/plain": [
       "(100, 100, 100, 100)"
      ]
     },
     "execution_count": 35,
     "metadata": {},
     "output_type": "execute_result"
    }
   ],
   "source": [
    "# Read the binary raw data into a numpy array\n",
    "np_array = np.fromfile('./Berea_2d25um_grayscale_filtered.raw', dtype=np.uint8, count=100000000)\n",
    "\n",
    "X = np_array.reshape(100, 100, 100, 100)\n",
    "X.shape"
   ]
  },
  {
   "cell_type": "code",
   "execution_count": 36,
   "id": "f756cdbd-4cb5-430a-a9d4-e48c798902f9",
   "metadata": {},
   "outputs": [],
   "source": [
    "y = np.random.uniform(low=0.05, high=.35, size=X.shape[0]) # generating porosity values"
   ]
  },
  {
   "cell_type": "code",
   "execution_count": 37,
   "id": "bef4c3e5",
   "metadata": {},
   "outputs": [],
   "source": [
    "# Perform train-test-validation split\n",
    "X_train, X_test, y_train, y_test = train_test_split(X, y, test_size=0.15, random_state=27)\n",
    "X_train, X_valid, y_train, y_valid = train_test_split(X_train, y_train, test_size=0.15, random_state=27)"
   ]
  },
  {
   "cell_type": "code",
   "execution_count": 38,
   "id": "1fe659c1-2313-49a0-986e-413351db0bd8",
   "metadata": {},
   "outputs": [],
   "source": [
    "class Custom3dDataset(Dataset):\n",
    "    def __init__(self, X, y):\n",
    "        self.X = torch.from_numpy(X).unsqueeze(1).float()\n",
    "        self.y = torch.from_numpy(y).float()\n",
    "\n",
    "        # Check if GPU is available and move tensors to GPU\n",
    "        if torch.cuda.is_available():\n",
    "            self.X = self.X.cuda()\n",
    "            self.y = self.y.cuda()\n",
    "\n",
    "        # Custom normalization\n",
    "        self.X = self.normalize(self.X)\n",
    "\n",
    "    def normalize(self, x):\n",
    "        x_normalized = (x - x.min())/(x.max() - x.min())\n",
    "        return x_normalized\n",
    "\n",
    "    def __getitem__(self, index):\n",
    "        x = self.X[index]\n",
    "        return x, self.y[index]\n",
    "\n",
    "    def __len__(self):\n",
    "        return len(self.X)"
   ]
  },
  {
   "cell_type": "code",
   "execution_count": 39,
   "id": "9070d6e7",
   "metadata": {},
   "outputs": [],
   "source": [
    "# Create custom datasets for training, testing, and validation set\n",
    "train_dataset = Custom3dDataset(X_train, y_train)\n",
    "test_dataset = Custom3dDataset(X_test, y_test)\n",
    "valid_dataset = Custom3dDataset(X_valid, y_valid)"
   ]
  },
  {
   "cell_type": "code",
   "execution_count": 40,
   "id": "4d2a37e8-23c3-4115-b481-79b4c8466bbf",
   "metadata": {},
   "outputs": [],
   "source": [
    "# Set random seed for reproducibility\n",
    "torch.manual_seed(27)\n",
    "\n",
    "# Create DataLoaders for training, testing, and validation set\n",
    "batch_size = 10\n",
    "train_loader = DataLoader(train_dataset, batch_size=batch_size, shuffle=True)\n",
    "test_loader = DataLoader(test_dataset, batch_size=batch_size, shuffle=False)\n",
    "valid_loader = DataLoader(valid_dataset, batch_size=batch_size, shuffle=False)\n",
    "\n",
    "# for GPU support\n",
    "# train_loader = DataLoader(train_dataset, batch_size=batch_size, shuffle=True, num_workers=2, pin_memory=True)\n",
    "# test_loader = DataLoader(test_dataset, batch_size=batch_size, shuffle=False, num_workers=2, pin_memory=True)\n",
    "# valid_loader = DataLoader(valid_dataset, batch_size=batch_size, shuffle=False, num_workers=2, pin_memory=True)"
   ]
  },
  {
   "cell_type": "markdown",
   "id": "49022236-667a-48f9-b5bb-d25fd2476e77",
   "metadata": {},
   "source": [
    "### How convolution output is passed into the fully connected layer"
   ]
  },
  {
   "cell_type": "code",
   "execution_count": 47,
   "id": "46bd102e-05d5-4e7f-b6cf-d4353aa1582d",
   "metadata": {},
   "outputs": [
    {
     "name": "stdout",
     "output_type": "stream",
     "text": [
      "torch.Size([10, 32, 9, 9, 9])\n"
     ]
    }
   ],
   "source": [
    "conv1 = nn.Conv3d(1, 16, kernel_size=5, stride=1, padding=1)\n",
    "pool1 = nn.MaxPool3d(kernel_size=5, stride=3)\n",
    "conv2 = nn.Conv3d(16, 32, kernel_size=5, stride=1, padding=1)\n",
    "pool2 = nn.MaxPool3d(kernel_size=5, stride=3)\n",
    "\n",
    "for X_train, y_train in train_loader:\n",
    "    break\n",
    "    \n",
    "a = F.relu(conv1(X_train))\n",
    "a = pool1(a)\n",
    "a = F.relu(conv2(a))\n",
    "a = pool2(a)\n",
    "print(a.shape)"
   ]
  },
  {
   "cell_type": "code",
   "execution_count": 45,
   "id": "5e7d5ab2-3d88-43cc-b0a6-6668b43afe42",
   "metadata": {},
   "outputs": [
    {
     "data": {
      "text/plain": [
       "23328"
      ]
     },
     "execution_count": 45,
     "metadata": {},
     "output_type": "execute_result"
    }
   ],
   "source": [
    "32*9*9*9"
   ]
  },
  {
   "cell_type": "code",
   "execution_count": 46,
   "id": "c943b9fa-ae72-4f92-830f-59c3a88e2273",
   "metadata": {},
   "outputs": [
    {
     "data": {
      "text/plain": [
       "23328"
      ]
     },
     "execution_count": 46,
     "metadata": {},
     "output_type": "execute_result"
    }
   ],
   "source": [
    "x = x.view(x.size(0), -1)\n",
    "x.shape[1]"
   ]
  },
  {
   "cell_type": "markdown",
   "id": "e36c29f0-4c37-4b11-931e-a3ba0033525c",
   "metadata": {},
   "source": [
    "### Model Class"
   ]
  },
  {
   "cell_type": "code",
   "execution_count": 49,
   "id": "ba831869-bcf3-4152-addb-a042d94b0935",
   "metadata": {},
   "outputs": [],
   "source": [
    "class CNN3dModel(nn.Module):\n",
    "    def __init__(self):\n",
    "        super().__init__()\n",
    "\n",
    "        # Convolutional layers\n",
    "        self.conv1 = nn.Conv3d(1, 16, kernel_size=5, stride=1, padding=1)\n",
    "        self.relu1 = nn.ReLU()\n",
    "        self.pool1 = nn.MaxPool3d(kernel_size=5, stride=3)\n",
    "\n",
    "        self.conv2 = nn.Conv3d(16, 32, kernel_size=5, stride=1, padding=1)\n",
    "        self.relu2 = nn.ReLU()\n",
    "        self.pool2 = nn.MaxPool3d(kernel_size=5, stride=3)\n",
    "\n",
    "        # Fully connected layers\n",
    "        self.fc1 = nn.Linear(a.shape[1], 128) # need to change according to convolution and pooling layers\n",
    "        self.relu3 = nn.ReLU()\n",
    "        self.fc2 = nn.Linear(128, 84)\n",
    "        self.relu4 = nn.ReLU()\n",
    "        self.fc3 = nn.Linear(84, 1)\n",
    "\n",
    "    def forward(self, x):\n",
    "        x = self.conv1(x)\n",
    "        x = self.relu1(x)\n",
    "        x = self.pool1(x)\n",
    "\n",
    "        x = self.conv2(x)\n",
    "        x = self.relu2(x)\n",
    "        x = self.pool2(x)\n",
    "\n",
    "        x = x.view(x.size(0), -1)  # Flatten the tensor\n",
    "\n",
    "        x = self.fc1(x)\n",
    "        x = self.relu3(x)\n",
    "        x = self.fc2(x)\n",
    "        x = self.relu4(x)\n",
    "        x = self.fc3(x)\n",
    "\n",
    "        return x.squeeze(1)  # Remove the extra dimension from the output"
   ]
  },
  {
   "cell_type": "code",
   "execution_count": 11,
   "id": "0587e83b-9363-43e0-8c9f-ce37cf4e92ce",
   "metadata": {},
   "outputs": [
    {
     "data": {
      "text/plain": [
       "CNN3dModel(\n",
       "  (conv1): Conv3d(1, 16, kernel_size=(5, 5, 5), stride=(1, 1, 1), padding=(1, 1, 1))\n",
       "  (relu1): ReLU()\n",
       "  (pool1): MaxPool3d(kernel_size=5, stride=3, padding=0, dilation=1, ceil_mode=False)\n",
       "  (conv2): Conv3d(16, 32, kernel_size=(5, 5, 5), stride=(1, 1, 1), padding=(1, 1, 1))\n",
       "  (relu2): ReLU()\n",
       "  (pool2): MaxPool3d(kernel_size=5, stride=3, padding=0, dilation=1, ceil_mode=False)\n",
       "  (fc1): Linear(in_features=23328, out_features=128, bias=True)\n",
       "  (relu3): ReLU()\n",
       "  (fc2): Linear(in_features=128, out_features=84, bias=True)\n",
       "  (relu4): ReLU()\n",
       "  (fc3): Linear(in_features=84, out_features=1, bias=True)\n",
       ")"
      ]
     },
     "execution_count": 11,
     "metadata": {},
     "output_type": "execute_result"
    }
   ],
   "source": [
    "# Create an instance of the CNN model\n",
    "model = CNN3dModel()\n",
    "model\n",
    "# gpu support\n",
    "# gpumodel = model.cuda()"
   ]
  },
  {
   "cell_type": "markdown",
   "id": "f2569629-88fd-48fa-bd4a-141a2741180d",
   "metadata": {},
   "source": [
    "### Total learnable parameters"
   ]
  },
  {
   "cell_type": "code",
   "execution_count": 26,
   "id": "efbd5c78-beda-4a8f-9a9f-a6398108872c",
   "metadata": {},
   "outputs": [
    {
     "name": "stdout",
     "output_type": "stream",
     "text": [
      "    2000\n",
      "      16\n",
      "   64000\n",
      "      32\n",
      " 2985984\n",
      "     128\n",
      "   10752\n",
      "      84\n",
      "      84\n",
      "       1\n",
      "________\n",
      " 3063081\n"
     ]
    }
   ],
   "source": [
    "def count_parameters(Model):\n",
    "    params = [p.numel() for p in model.parameters() if p.requires_grad]\n",
    "    for item in params:\n",
    "        print(f'{item:>8}')\n",
    "    print(f'________\\n{sum(params):>8}')\n",
    "    \n",
    "count_parameters(CNN3dModel)"
   ]
  },
  {
   "cell_type": "markdown",
   "id": "c436b463-c7bc-4922-a5d6-452f2e8c2fdf",
   "metadata": {},
   "source": [
    "### Early stopping for overfitting issue"
   ]
  },
  {
   "cell_type": "code",
   "execution_count": 14,
   "id": "1ca8f98c-6cc1-4a25-88ac-5b704f89bcbe",
   "metadata": {},
   "outputs": [],
   "source": [
    "class EarlyStopper:\n",
    "    def __init__(self, patience=8, min_delta=0):\n",
    "        \"\"\"\n",
    "        min_delta: Minimum change in the monitored quantity to qualify as an improvement, \n",
    "        i.e. an absolute change of less than min_delta, will count as no improvement.\n",
    "        patience: Number of epochs with no improvement after which training will be stopped.\n",
    "        \"\"\"\n",
    "        self.patience = patience\n",
    "        self.min_delta = min_delta\n",
    "        self.counter = 0\n",
    "        self.min_validation_loss = np.inf\n",
    "\n",
    "    def early_stop(self, validation_loss):\n",
    "        if validation_loss < self.min_validation_loss:\n",
    "            self.min_validation_loss = validation_loss\n",
    "            self.counter = 0\n",
    "        elif validation_loss > (self.min_validation_loss + self.min_delta):\n",
    "            self.counter += 1\n",
    "            if self.counter >= self.patience:\n",
    "                return True\n",
    "        return False"
   ]
  },
  {
   "cell_type": "code",
   "execution_count": 15,
   "id": "beb54509-40b0-49c6-b23a-02ec0d324801",
   "metadata": {},
   "outputs": [],
   "source": [
    "# function to convert seconds to into hours, minutes and seconds\n",
    "# this function is used to measure the time taking by the models\n",
    "def convert(seconds):\n",
    "    seconds = seconds % (24 * 3600)\n",
    "    hour = seconds // 3600\n",
    "    seconds %= 3600\n",
    "    minutes = seconds // 60\n",
    "    seconds %= 60\n",
    "    return \"%d:%02d:%02d\" % (hour, minutes, seconds)"
   ]
  },
  {
   "cell_type": "markdown",
   "id": "46208f31-a0af-4d69-892a-6b8a7bf42833",
   "metadata": {},
   "source": [
    "### Loss function and optimizer"
   ]
  },
  {
   "cell_type": "code",
   "execution_count": 16,
   "id": "20aa45b7-b6b5-41de-88d0-4554ed4ed39c",
   "metadata": {},
   "outputs": [],
   "source": [
    "criterion = nn.MSELoss()  # we'll convert this to RMSE later\n",
    "optimizer = torch.optim.Adam(model.parameters(), lr=0.001)"
   ]
  },
  {
   "cell_type": "markdown",
   "id": "3846fb8e-7568-407e-8272-ac2a78dcdfe1",
   "metadata": {},
   "source": [
    "### Train the model"
   ]
  },
  {
   "cell_type": "code",
   "execution_count": 17,
   "id": "a2fd1f63-c406-4a28-8755-190c4374181b",
   "metadata": {
    "collapsed": true,
    "jupyter": {
     "outputs_hidden": true
    },
    "tags": []
   },
   "outputs": [
    {
     "name": "stdout",
     "output_type": "stream",
     "text": [
      "epoch:  0\t batch:    1\t Training_loss: 0.26630822\n",
      "epoch:  0\t batch:    2\t Training_loss: 1.42537570\n",
      "epoch:  0\t batch:    3\t Training_loss: 0.37064508\n",
      "epoch:  0\t batch:    4\t Training_loss: 0.22174278\n",
      "epoch:  0\t batch:    5\t Training_loss: 0.20247668\n",
      "epoch:  0\t batch:    6\t Training_loss: 0.22106895\n",
      "epoch:  0\t batch:    7\t Training_loss: 0.22510499\n",
      "epoch:  0\t batch:    8\t Training_loss: 0.10905659\n",
      "epoch:  1\t batch:    1\t Training_loss: 0.15500285\n",
      "epoch:  1\t batch:    2\t Training_loss: 0.08733860\n",
      "epoch:  1\t batch:    3\t Training_loss: 0.14280494\n",
      "epoch:  1\t batch:    4\t Training_loss: 0.11958210\n",
      "epoch:  1\t batch:    5\t Training_loss: 0.12060394\n",
      "epoch:  1\t batch:    6\t Training_loss: 0.12763193\n",
      "epoch:  1\t batch:    7\t Training_loss: 0.12356017\n",
      "epoch:  1\t batch:    8\t Training_loss: 0.13679804\n",
      "epoch:  2\t batch:    1\t Training_loss: 0.11789890\n",
      "epoch:  2\t batch:    2\t Training_loss: 0.12239305\n",
      "epoch:  2\t batch:    3\t Training_loss: 0.10531194\n",
      "epoch:  2\t batch:    4\t Training_loss: 0.10637569\n",
      "epoch:  2\t batch:    5\t Training_loss: 0.09367537\n",
      "epoch:  2\t batch:    6\t Training_loss: 0.09566229\n",
      "epoch:  2\t batch:    7\t Training_loss: 0.10743272\n",
      "epoch:  2\t batch:    8\t Training_loss: 0.02467687\n",
      "epoch:  3\t batch:    1\t Training_loss: 0.08450453\n",
      "epoch:  3\t batch:    2\t Training_loss: 0.08974422\n",
      "epoch:  3\t batch:    3\t Training_loss: 0.08457218\n",
      "epoch:  3\t batch:    4\t Training_loss: 0.09355003\n",
      "epoch:  3\t batch:    5\t Training_loss: 0.09393832\n",
      "epoch:  3\t batch:    6\t Training_loss: 0.08317042\n",
      "epoch:  3\t batch:    7\t Training_loss: 0.07586457\n",
      "epoch:  3\t batch:    8\t Training_loss: 0.13187091\n",
      "epoch:  4\t batch:    1\t Training_loss: 0.08329404\n",
      "epoch:  4\t batch:    2\t Training_loss: 0.09534909\n",
      "epoch:  4\t batch:    3\t Training_loss: 0.11376409\n",
      "epoch:  4\t batch:    4\t Training_loss: 0.09210750\n",
      "epoch:  4\t batch:    5\t Training_loss: 0.07487036\n",
      "epoch:  4\t batch:    6\t Training_loss: 0.07770141\n",
      "epoch:  4\t batch:    7\t Training_loss: 0.08431530\n",
      "epoch:  4\t batch:    8\t Training_loss: 0.07265662\n",
      "epoch:  5\t batch:    1\t Training_loss: 0.07188988\n",
      "epoch:  5\t batch:    2\t Training_loss: 0.09356696\n",
      "epoch:  5\t batch:    3\t Training_loss: 0.08275003\n",
      "epoch:  5\t batch:    4\t Training_loss: 0.09064756\n",
      "epoch:  5\t batch:    5\t Training_loss: 0.08923201\n",
      "epoch:  5\t batch:    6\t Training_loss: 0.09518338\n",
      "epoch:  5\t batch:    7\t Training_loss: 0.07500598\n",
      "epoch:  5\t batch:    8\t Training_loss: 0.05661370\n",
      "epoch:  6\t batch:    1\t Training_loss: 0.10662165\n",
      "epoch:  6\t batch:    2\t Training_loss: 0.09209442\n",
      "epoch:  6\t batch:    3\t Training_loss: 0.11180923\n",
      "epoch:  6\t batch:    4\t Training_loss: 0.08644727\n",
      "epoch:  6\t batch:    5\t Training_loss: 0.08795650\n",
      "epoch:  6\t batch:    6\t Training_loss: 0.08695553\n",
      "epoch:  6\t batch:    7\t Training_loss: 0.09476376\n",
      "epoch:  6\t batch:    8\t Training_loss: 0.07593097\n",
      "epoch:  7\t batch:    1\t Training_loss: 0.10971711\n",
      "epoch:  7\t batch:    2\t Training_loss: 0.11712749\n",
      "epoch:  7\t batch:    3\t Training_loss: 0.07950986\n",
      "epoch:  7\t batch:    4\t Training_loss: 0.03551722\n",
      "epoch:  7\t batch:    5\t Training_loss: 0.08239293\n",
      "epoch:  7\t batch:    6\t Training_loss: 0.07852592\n",
      "epoch:  7\t batch:    7\t Training_loss: 0.09973580\n",
      "epoch:  7\t batch:    8\t Training_loss: 0.07037795\n",
      "epoch:  8\t batch:    1\t Training_loss: 0.09664468\n",
      "epoch:  8\t batch:    2\t Training_loss: 0.08255185\n",
      "epoch:  8\t batch:    3\t Training_loss: 0.07300887\n",
      "epoch:  8\t batch:    4\t Training_loss: 0.09753100\n",
      "epoch:  8\t batch:    5\t Training_loss: 0.08616608\n",
      "epoch:  8\t batch:    6\t Training_loss: 0.08556743\n",
      "epoch:  8\t batch:    7\t Training_loss: 0.07107589\n",
      "epoch:  8\t batch:    8\t Training_loss: 0.08664077\n",
      "epoch:  9\t batch:    1\t Training_loss: 0.09697036\n",
      "epoch:  9\t batch:    2\t Training_loss: 0.10036404\n",
      "epoch:  9\t batch:    3\t Training_loss: 0.09087929\n",
      "epoch:  9\t batch:    4\t Training_loss: 0.08341996\n",
      "epoch:  9\t batch:    5\t Training_loss: 0.09636662\n",
      "epoch:  9\t batch:    6\t Training_loss: 0.07205167\n",
      "epoch:  9\t batch:    7\t Training_loss: 0.07896484\n",
      "epoch:  9\t batch:    8\t Training_loss: 0.12216304\n",
      "epoch: 10\t batch:    1\t Training_loss: 0.08571225\n",
      "epoch: 10\t batch:    2\t Training_loss: 0.08702730\n",
      "epoch: 10\t batch:    3\t Training_loss: 0.06382988\n",
      "epoch: 10\t batch:    4\t Training_loss: 0.09741287\n",
      "epoch: 10\t batch:    5\t Training_loss: 0.09448202\n",
      "epoch: 10\t batch:    6\t Training_loss: 0.08439035\n",
      "epoch: 10\t batch:    7\t Training_loss: 0.09643850\n",
      "epoch: 10\t batch:    8\t Training_loss: 0.05785059\n",
      "epoch: 11\t batch:    1\t Training_loss: 0.09369645\n",
      "epoch: 11\t batch:    2\t Training_loss: 0.09202487\n",
      "epoch: 11\t batch:    3\t Training_loss: 0.07186373\n",
      "epoch: 11\t batch:    4\t Training_loss: 0.10310761\n",
      "epoch: 11\t batch:    5\t Training_loss: 0.05246773\n",
      "epoch: 11\t batch:    6\t Training_loss: 0.11121392\n",
      "epoch: 11\t batch:    7\t Training_loss: 0.07706530\n",
      "epoch: 11\t batch:    8\t Training_loss: 0.07873847\n",
      "epoch: 12\t batch:    1\t Training_loss: 0.07984566\n",
      "epoch: 12\t batch:    2\t Training_loss: 0.08624914\n",
      "epoch: 12\t batch:    3\t Training_loss: 0.09532937\n",
      "epoch: 12\t batch:    4\t Training_loss: 0.06893915\n",
      "epoch: 12\t batch:    5\t Training_loss: 0.07881369\n",
      "epoch: 12\t batch:    6\t Training_loss: 0.08433576\n",
      "epoch: 12\t batch:    7\t Training_loss: 0.09485302\n",
      "epoch: 12\t batch:    8\t Training_loss: 0.04458502\n",
      "epoch: 13\t batch:    1\t Training_loss: 0.07718209\n",
      "epoch: 13\t batch:    2\t Training_loss: 0.09442930\n",
      "epoch: 13\t batch:    3\t Training_loss: 0.08296493\n",
      "epoch: 13\t batch:    4\t Training_loss: 0.10053802\n",
      "epoch: 13\t batch:    5\t Training_loss: 0.06210732\n",
      "epoch: 13\t batch:    6\t Training_loss: 0.10450964\n",
      "epoch: 13\t batch:    7\t Training_loss: 0.07986115\n",
      "epoch: 13\t batch:    8\t Training_loss: 0.06710929\n",
      "epoch: 14\t batch:    1\t Training_loss: 0.09758510\n",
      "epoch: 14\t batch:    2\t Training_loss: 0.10799367\n",
      "epoch: 14\t batch:    3\t Training_loss: 0.10052306\n",
      "epoch: 14\t batch:    4\t Training_loss: 0.08244277\n",
      "epoch: 14\t batch:    5\t Training_loss: 0.08555718\n",
      "epoch: 14\t batch:    6\t Training_loss: 0.07408176\n",
      "epoch: 14\t batch:    7\t Training_loss: 0.10645559\n",
      "epoch: 14\t batch:    8\t Training_loss: 0.08354922\n",
      "training_duration: 0:06:09 h:m:s\n"
     ]
    }
   ],
   "source": [
    "import time\n",
    "\n",
    "start = time.time()\n",
    "\n",
    "early_stopper = EarlyStopper(patience=10, min_delta=10)\n",
    "epochs = 15\n",
    "train_losses = []\n",
    "valid_losses = []\n",
    "\n",
    "for i in range(epochs):\n",
    "\n",
    "    # run the training batches\n",
    "    for b, (X_tr, y_tr) in enumerate(train_loader):\n",
    "        b+=1\n",
    "\n",
    "        # apply the model\n",
    "        y_pred = model(X_tr)\n",
    "        train_loss = torch.sqrt(criterion(y_pred, y_tr)) # RMSE of training data\n",
    "\n",
    "        # Update parameters\n",
    "        optimizer.zero_grad()\n",
    "        train_loss.backward()\n",
    "        optimizer.step()\n",
    "\n",
    "        # printing interim results\n",
    "        # if b%10 == 0:\n",
    "        print(f'epoch: {i:2}\\t batch: {b:4}\\t Training_loss: {train_loss.item():10.8f}')\n",
    "          \n",
    "    train_losses.append(train_loss) # tracking training losses over the epochs\n",
    "\n",
    "    # run the validation batches\n",
    "    with torch.no_grad():\n",
    "        for b, (X_val, y_val) in enumerate(valid_loader):\n",
    "            # apply the model\n",
    "            y_valid_pred = model(X_val)\n",
    "                                \n",
    "    valid_loss = torch.sqrt(criterion(y_valid_pred, y_val)) # RMSE calculation of validation data\n",
    "    valid_losses.append(valid_loss)\n",
    "    \n",
    "    if early_stopper.early_stop(valid_loss):             \n",
    "        epochs = i\n",
    "        print(\"We are at epoch:\", i)\n",
    "        break\n",
    "\n",
    "end = time.time()\n",
    "\n",
    "print('training_duration:', convert(end-start), 'h:m:s') # print total training time"
   ]
  },
  {
   "cell_type": "markdown",
   "id": "fd7a4636-b3b1-4383-9a37-3149ea0d7678",
   "metadata": {},
   "source": [
    "### Training and validation losses visualization"
   ]
  },
  {
   "cell_type": "code",
   "execution_count": 18,
   "id": "dd26f13d-4eac-44f2-93e4-5f4e35ebdffa",
   "metadata": {},
   "outputs": [
    {
     "data": {
      "image/png": "[encoded data removed]",
      "text/plain": [
       "<Figure size 640x480 with 1 Axes>"
      ]
     },
     "metadata": {},
     "output_type": "display_data"
    }
   ],
   "source": [
    "new_train_losses = []\n",
    "new_valid_losses = []\n",
    "for i in range(len(train_losses)):\n",
    "    losses_1 = train_losses[i].detach().numpy()\n",
    "    new_train_losses.append(losses_1)\n",
    "\n",
    "for i in range(len(valid_losses)):\n",
    "    losses_2 = valid_losses[i].detach().numpy()\n",
    "    new_valid_losses.append(losses_2)\n",
    "\n",
    "plt.plot(range(epochs), new_valid_losses, label='Validation loss')\n",
    "plt.plot(range(epochs), new_train_losses, label='Training loss')\n",
    "plt.ylabel('RMSE Loss')\n",
    "plt.xlabel('Epoch');\n",
    "plt.legend(loc='upper right')\n",
    "\n",
    "plt.tight_layout()\n",
    "# plt.savefig(\"./output/cnn/training_loss_plot_cnn.png\", dpi=300)"
   ]
  },
  {
   "cell_type": "markdown",
   "id": "54907d94-b2c5-4061-b30b-038effc32cff",
   "metadata": {
    "tags": []
   },
   "source": [
    "### Evaluation of this model in training, testing dataset"
   ]
  },
  {
   "cell_type": "code",
   "execution_count": 19,
   "id": "a3ba6d0c-c673-4576-b79d-0a61dd98bfb6",
   "metadata": {},
   "outputs": [],
   "source": [
    "# Extract the data all at once for training and testing set, not in batches\n",
    "train_load_all = DataLoader(train_dataset, batch_size=len(train_dataset), shuffle=True)\n",
    "test_load_all = DataLoader(test_dataset, batch_size=len(test_dataset), shuffle=False)"
   ]
  },
  {
   "cell_type": "code",
   "execution_count": 20,
   "id": "c09304a3-324d-4a82-a29e-9a9498393526",
   "metadata": {},
   "outputs": [],
   "source": [
    "with torch.no_grad():\n",
    "    for X_train, y_train in train_load_all:\n",
    "        pred_1 = model(X_train)\n",
    "    for X_test, y_test in test_load_all:\n",
    "        pred_2 = model(X_test)"
   ]
  },
  {
   "cell_type": "markdown",
   "id": "5875b74a-8054-49bd-9799-48b74013918a",
   "metadata": {
    "tags": []
   },
   "source": [
    "### Saving training and testing data with their predicted values in a excel file"
   ]
  },
  {
   "cell_type": "code",
   "execution_count": 21,
   "id": "51c06d4c-82a9-4196-bde8-4b2b5e7e553e",
   "metadata": {},
   "outputs": [],
   "source": [
    "import os\n",
    "\n",
    "# Create the output directory if it doesn't exist\n",
    "output_dir = \"./output/cnn\"\n",
    "os.makedirs(output_dir, exist_ok=True)\n",
    "\n",
    "# Create the dataframes\n",
    "a = pd.DataFrame(np.stack([y_train, pred_1], axis=1), columns=['y_train', 'y_train_pred'])\n",
    "b = pd.DataFrame(np.stack([y_test, pred_2], axis=1), columns=['y_test', 'y_test_pred'])\n",
    "\n",
    "# Save the dataframes to an Excel file\n",
    "output_path = os.path.join(output_dir, \"predicted_cnn_model.xlsx\")\n",
    "with pd.ExcelWriter(output_path) as writer:\n",
    "    a.to_excel(writer, sheet_name=\"training\", index=True)\n",
    "    b.to_excel(writer, sheet_name=\"testing\", index=True)"
   ]
  },
  {
   "cell_type": "markdown",
   "id": "5c8d07ab-0076-4c36-b705-b3ed17f94efb",
   "metadata": {},
   "source": [
    "### Performance metrics for training and testing set"
   ]
  },
  {
   "cell_type": "code",
   "execution_count": 22,
   "id": "e4d99298-4fea-4645-a16f-bfc25f9543c9",
   "metadata": {},
   "outputs": [
    {
     "data": {
      "text/html": [
       "<div>\n",
       "<style scoped>\n",
       "    .dataframe tbody tr th:only-of-type {\n",
       "        vertical-align: middle;\n",
       "    }\n",
       "\n",
       "    .dataframe tbody tr th {\n",
       "        vertical-align: top;\n",
       "    }\n",
       "\n",
       "    .dataframe thead th {\n",
       "        text-align: right;\n",
       "    }\n",
       "</style>\n",
       "<table border=\"1\" class=\"dataframe\">\n",
       "  <thead>\n",
       "    <tr style=\"text-align: right;\">\n",
       "      <th></th>\n",
       "      <th>0</th>\n",
       "      <th>1</th>\n",
       "      <th>2</th>\n",
       "      <th>3</th>\n",
       "      <th>4</th>\n",
       "      <th>5</th>\n",
       "    </tr>\n",
       "  </thead>\n",
       "  <tbody>\n",
       "    <tr>\n",
       "      <th>performance_metrics</th>\n",
       "      <td>R2</td>\n",
       "      <td>MAE</td>\n",
       "      <td>MSE</td>\n",
       "      <td>MAPE</td>\n",
       "      <td>maxE</td>\n",
       "      <td>minE</td>\n",
       "    </tr>\n",
       "    <tr>\n",
       "      <th>training</th>\n",
       "      <td>-0.014546</td>\n",
       "      <td>0.073694</td>\n",
       "      <td>0.007154</td>\n",
       "      <td>0.497057</td>\n",
       "      <td>0.156373</td>\n",
       "      <td>tensor(0.0012)</td>\n",
       "    </tr>\n",
       "    <tr>\n",
       "      <th>testing</th>\n",
       "      <td>-0.076119</td>\n",
       "      <td>0.087227</td>\n",
       "      <td>0.008797</td>\n",
       "      <td>0.636636</td>\n",
       "      <td>0.161243</td>\n",
       "      <td>tensor(0.0316)</td>\n",
       "    </tr>\n",
       "  </tbody>\n",
       "</table>\n",
       "</div>"
      ],
      "text/plain": [
       "                            0         1         2         3         4  \\\n",
       "performance_metrics        R2       MAE       MSE      MAPE      maxE   \n",
       "training            -0.014546  0.073694  0.007154  0.497057  0.156373   \n",
       "testing             -0.076119  0.087227  0.008797  0.636636  0.161243   \n",
       "\n",
       "                                  5  \n",
       "performance_metrics            minE  \n",
       "training             tensor(0.0012)  \n",
       "testing              tensor(0.0316)  "
      ]
     },
     "execution_count": 22,
     "metadata": {},
     "output_type": "execute_result"
    }
   ],
   "source": [
    "from sklearn.metrics import r2_score\n",
    "from sklearn.metrics import mean_absolute_error\n",
    "from sklearn.metrics import mean_squared_error\n",
    "from sklearn.metrics import mean_absolute_percentage_error\n",
    "from sklearn.metrics import max_error\n",
    "\n",
    "train_r2 = r2_score(y_train,pred_1)\n",
    "train_mae = mean_absolute_error(y_train, pred_1)\n",
    "train_mse = mean_squared_error(y_train, pred_1)\n",
    "train_mape = mean_absolute_percentage_error(y_train, pred_1)\n",
    "train_maxE = max_error(y_train, pred_1)\n",
    "train_minE = min(abs(y_train - pred_1))\n",
    "\n",
    "test_r2 = r2_score(y_test, pred_2)\n",
    "test_mae = mean_absolute_error(y_test, pred_2)\n",
    "test_mse = mean_squared_error(y_test, pred_2)\n",
    "test_mape = mean_absolute_percentage_error(y_test, pred_2)\n",
    "test_maxE = max_error(y_test, pred_2)\n",
    "test_minE = min(abs(y_test - pred_2))\n",
    "\n",
    "metrics = {\n",
    "'performance_metrics': ['R2', 'MAE', 'MSE', 'MAPE', 'maxE', 'minE'],\n",
    "'training': [train_r2, train_mae, train_mse, train_mape, train_maxE, train_minE],\n",
    "'testing': [test_r2, test_mae, test_mse, test_mape, test_maxE, test_minE]\n",
    "}\n",
    "\n",
    "performance_metrics = pd.DataFrame(metrics)\n",
    "performance = performance_metrics.transpose()\n",
    "performance.to_csv('./output/cnn/performance_cnn.csv')\n",
    "performance"
   ]
  },
  {
   "cell_type": "markdown",
   "id": "8c91d035-9cfa-4ca2-8652-7a2c23c54409",
   "metadata": {},
   "source": [
    "### Save the trained model to a file"
   ]
  },
  {
   "cell_type": "code",
   "execution_count": 23,
   "id": "a5a4c9c0-9e80-4d50-bbf1-917e767b7a22",
   "metadata": {},
   "outputs": [],
   "source": [
    "# Make sure to save the model only after the training has happened!\n",
    "if len(train_losses) == epochs:\n",
    "    torch.save(model.state_dict(), './output/cnn/trained_model_cnn.pt')\n",
    "else:\n",
    "    print('Model has not been trained. Consider loading a trained model instead.')"
   ]
  },
  {
   "cell_type": "markdown",
   "id": "fbba7935-7ea0-47aa-ad81-4d801982df3a",
   "metadata": {},
   "source": [
    "### Load a new model"
   ]
  },
  {
   "cell_type": "code",
   "execution_count": 24,
   "id": "dce26d4c-ff84-4ce6-b8ca-9ee9e0931d37",
   "metadata": {},
   "outputs": [
    {
     "data": {
      "text/plain": [
       "CNN3dModel(\n",
       "  (conv1): Conv3d(1, 16, kernel_size=(5, 5, 5), stride=(1, 1, 1), padding=(1, 1, 1))\n",
       "  (relu1): ReLU()\n",
       "  (pool1): MaxPool3d(kernel_size=5, stride=3, padding=0, dilation=1, ceil_mode=False)\n",
       "  (conv2): Conv3d(16, 32, kernel_size=(5, 5, 5), stride=(1, 1, 1), padding=(1, 1, 1))\n",
       "  (relu2): ReLU()\n",
       "  (pool2): MaxPool3d(kernel_size=5, stride=3, padding=0, dilation=1, ceil_mode=False)\n",
       "  (fc1): Linear(in_features=23328, out_features=128, bias=True)\n",
       "  (relu3): ReLU()\n",
       "  (fc2): Linear(in_features=128, out_features=84, bias=True)\n",
       "  (relu4): ReLU()\n",
       "  (fc3): Linear(in_features=84, out_features=1, bias=True)\n",
       ")"
      ]
     },
     "execution_count": 24,
     "metadata": {},
     "output_type": "execute_result"
    }
   ],
   "source": [
    "model2 = CNN3dModel()\n",
    "\n",
    "model2.load_state_dict(torch.load('./output/cnn/trained_model_cnn.pt'))\n",
    "model2.eval() # be sure to run this step!"
   ]
  },
  {
   "cell_type": "code",
   "execution_count": null,
   "id": "6b384434-a6fe-4af9-bff7-b92260676b69",
   "metadata": {},
   "outputs": [],
   "source": []
  }
 ],
 "metadata": {
  "kernelspec": {
   "display_name": "Python 3 (ipykernel)",
   "language": "python",
   "name": "python3"
  },
  "language_info": {
   "codemirror_mode": {
    "name": "ipython",
    "version": 3
   },
   "file_extension": ".py",
   "mimetype": "text/x-python",
   "name": "python",
   "nbconvert_exporter": "python",
   "pygments_lexer": "ipython3",
   "version": "3.9.11"
  }
 },
 "nbformat": 4,
 "nbformat_minor": 5
}
